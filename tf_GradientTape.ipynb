{
  "nbformat": 4,
  "nbformat_minor": 0,
  "metadata": {
    "colab": {
      "name": "tf_GradientTape.ipynb",
      "provenance": [],
      "collapsed_sections": [],
      "authorship_tag": "ABX9TyNWThnHG4XaU7Zf3rsbL06Y",
      "include_colab_link": true
    },
    "kernelspec": {
      "name": "python3",
      "display_name": "Python 3"
    },
    "language_info": {
      "name": "python"
    }
  },
  "cells": [
    {
      "cell_type": "markdown",
      "metadata": {
        "id": "view-in-github",
        "colab_type": "text"
      },
      "source": [
        "<a href=\"https://colab.research.google.com/github/RAVIKUMARBALIJA/tensorflow2_tutorials/blob/main/tf_GradientTape.ipynb\" target=\"_parent\"><img src=\"https://colab.research.google.com/assets/colab-badge.svg\" alt=\"Open In Colab\"/></a>"
      ]
    },
    {
      "cell_type": "code",
      "metadata": {
        "id": "g3HqKFy1Q09D"
      },
      "source": [
        "import tensorflow as tf\n",
        "from tensorflow.keras.layers import Dense,Activation,Conv2D,Flatten\n",
        "from tensorflow.keras.metrics import SparseCategoricalCrossentropy,SparseCategoricalAccuracy\n",
        "from tensorflow.keras.datasets import mnist\n",
        "import numpy as np"
      ],
      "execution_count": 1,
      "outputs": []
    },
    {
      "cell_type": "code",
      "metadata": {
        "id": "2GtptBM7RMnD"
      },
      "source": [
        "(x_train,y_train),(x_test,y_test)=mnist.load_data()\n",
        "x_train,x_test=x_train/255.,x_test/255."
      ],
      "execution_count": 2,
      "outputs": []
    },
    {
      "cell_type": "code",
      "metadata": {
        "colab": {
          "base_uri": "https://localhost:8080/"
        },
        "id": "OF829PvhRT9R",
        "outputId": "065a26e4-a67b-404b-f525-680dcade15a5"
      },
      "source": [
        "x_train.shape,x_test.shape"
      ],
      "execution_count": 3,
      "outputs": [
        {
          "output_type": "execute_result",
          "data": {
            "text/plain": [
              "((60000, 28, 28), (10000, 28, 28))"
            ]
          },
          "metadata": {},
          "execution_count": 3
        }
      ]
    },
    {
      "cell_type": "code",
      "metadata": {
        "id": "UHw3cA1vRlMS"
      },
      "source": [
        "#adding new channels to tensors\n",
        "\n",
        "x_train=x_train[...,tf.newaxis].astype('float32')\n",
        "x_test=x_test[...,tf.newaxis].astype('float32')"
      ],
      "execution_count": 4,
      "outputs": []
    },
    {
      "cell_type": "code",
      "metadata": {
        "colab": {
          "base_uri": "https://localhost:8080/"
        },
        "id": "EuVk9S1KR5GL",
        "outputId": "146b847b-6d0b-4225-e542-e6b291cf47a5"
      },
      "source": [
        "x_train.shape,x_test.shape"
      ],
      "execution_count": 5,
      "outputs": [
        {
          "output_type": "execute_result",
          "data": {
            "text/plain": [
              "((60000, 28, 28, 1), (10000, 28, 28, 1))"
            ]
          },
          "metadata": {},
          "execution_count": 5
        }
      ]
    },
    {
      "cell_type": "code",
      "metadata": {
        "id": "Za0W5Ku9R7YL"
      },
      "source": [
        "train_ds=tf.data.Dataset.from_tensor_slices((x_train,y_train)).shuffle(10000).batch(32)\n",
        "test_ds=tf.data.Dataset.from_tensor_slices((x_test,y_test)).batch(32)"
      ],
      "execution_count": 6,
      "outputs": []
    },
    {
      "cell_type": "code",
      "metadata": {
        "id": "MmYrlGRkSfEu"
      },
      "source": [
        "class MyModel(tf.keras.Model):\n",
        "  def __init__(self):\n",
        "    super(MyModel,self).__init__()\n",
        "    self.conv2d=Conv2D(filters=32,kernel_size=3,activation='relu')\n",
        "    self.flatten=Flatten()\n",
        "    self.d1=Dense(128,activation='relu')\n",
        "    self.d2=Dense(10,activation='softmax')\n",
        "  def call(self,x):\n",
        "    x=self.conv2d(x)\n",
        "    x=self.flatten(x)\n",
        "    x=self.d1(x)\n",
        "    return self.d2(x)\n",
        "\n",
        "model=MyModel()\n"
      ],
      "execution_count": 7,
      "outputs": []
    },
    {
      "cell_type": "code",
      "metadata": {
        "id": "Hil6xUXjSz5v"
      },
      "source": [
        "loss_obj=tf.keras.losses.SparseCategoricalCrossentropy(from_logits=True)\n",
        "optimizer=tf.keras.optimizers.Adam()"
      ],
      "execution_count": 8,
      "outputs": []
    },
    {
      "cell_type": "code",
      "metadata": {
        "id": "_DWu7t6AUN5l"
      },
      "source": [
        "train_loss=tf.keras.metrics.Mean(name='train_loss')\n",
        "train_accuracy=tf.keras.metrics.SparseCategoricalAccuracy(name='train_accuracy')\n"
      ],
      "execution_count": 9,
      "outputs": []
    },
    {
      "cell_type": "code",
      "metadata": {
        "id": "F8DAcziWUcy9"
      },
      "source": [
        "test_loss=tf.keras.metrics.Mean(name='test_loss')\n",
        "test_accuracy=tf.keras.metrics.SparseCategoricalAccuracy(name='test_accuracy')"
      ],
      "execution_count": 10,
      "outputs": []
    },
    {
      "cell_type": "code",
      "metadata": {
        "id": "XmwuTrF4UqmL"
      },
      "source": [
        "@tf.function\n",
        "def train_step(images,labels):\n",
        "  with tf.GradientTape() as tape:\n",
        "    predictions=model(images,training=True)\n",
        "    loss=loss_obj(labels,predictions)\n",
        "  gradients=tape.gradient(loss,model.trainable_variables)\n",
        "  optimizer.apply_gradients(zip(gradients,model.trainable_variables))\n",
        "\n",
        "  train_loss(loss)\n",
        "  train_accuracy(labels,predictions)"
      ],
      "execution_count": 11,
      "outputs": []
    },
    {
      "cell_type": "code",
      "metadata": {
        "id": "CxrKGqrvVtfF"
      },
      "source": [
        "@tf.function\n",
        "def test_step(images,labels):\n",
        "  with tf.GradientTape() as tape:\n",
        "    predictions=model(images,training=False)\n",
        "    loss=loss_obj(labels,predictions)\n",
        "  gradients=tape.gradient(loss,model.trainable_variables)\n",
        "  optimizer.apply_gradients(zip(gradients,model.trainable_variables))\n",
        "\n",
        "  test_loss(loss)\n",
        "  test_accuracy(labels,predictions)"
      ],
      "execution_count": 12,
      "outputs": []
    },
    {
      "cell_type": "code",
      "metadata": {
        "colab": {
          "base_uri": "https://localhost:8080/"
        },
        "id": "8wt_qxIEWuJd",
        "outputId": "3f56a93b-2a4e-4ba2-e5e0-91a69debaefa"
      },
      "source": [
        "epochs=5\n",
        "\n",
        "for i in range(epochs):\n",
        "  train_loss.reset_states()\n",
        "  train_accuracy.reset_states()\n",
        "  test_loss.reset_states()\n",
        "  test_accuracy.reset_states()\n",
        "\n",
        "  for images,labels in train_ds:\n",
        "    train_step(images,labels)\n",
        "\n",
        "  for test_images,test_labels in test_ds:\n",
        "    test_step(test_images,test_labels)\n",
        "\n",
        "  print('Epoch',i+1)\n",
        "  print('--train loss',train_loss.result())\n",
        "  print('--train accuracy',train_accuracy.result())\n",
        "  print('\\n--test loss',test_loss.result())\n",
        "  print('--test accuracy',test_accuracy.result())"
      ],
      "execution_count": 13,
      "outputs": [
        {
          "output_type": "stream",
          "text": [
            "/usr/local/lib/python3.7/dist-packages/keras/backend.py:4907: UserWarning: \"`sparse_categorical_crossentropy` received `from_logits=True`, but the `output` argument was produced by a sigmoid or softmax activation and thus does not represent logits. Was this intended?\"\n",
            "  '\"`sparse_categorical_crossentropy` received `from_logits=True`, but '\n"
          ],
          "name": "stderr"
        },
        {
          "output_type": "stream",
          "text": [
            "Epoch 1\n",
            "--train loss tf.Tensor(0.13126038, shape=(), dtype=float32)\n",
            "--train accuracy tf.Tensor(0.96071666, shape=(), dtype=float32)\n",
            "\n",
            "--test loss tf.Tensor(0.057880573, shape=(), dtype=float32)\n",
            "--test accuracy tf.Tensor(0.9807, shape=(), dtype=float32)\n",
            "Epoch 2\n",
            "--train loss tf.Tensor(0.040088095, shape=(), dtype=float32)\n",
            "--train accuracy tf.Tensor(0.98735, shape=(), dtype=float32)\n",
            "\n",
            "--test loss tf.Tensor(0.021240003, shape=(), dtype=float32)\n",
            "--test accuracy tf.Tensor(0.9928, shape=(), dtype=float32)\n",
            "Epoch 3\n",
            "--train loss tf.Tensor(0.0208148, shape=(), dtype=float32)\n",
            "--train accuracy tf.Tensor(0.993, shape=(), dtype=float32)\n",
            "\n",
            "--test loss tf.Tensor(0.012713505, shape=(), dtype=float32)\n",
            "--test accuracy tf.Tensor(0.9964, shape=(), dtype=float32)\n",
            "Epoch 4\n",
            "--train loss tf.Tensor(0.0119674625, shape=(), dtype=float32)\n",
            "--train accuracy tf.Tensor(0.9959, shape=(), dtype=float32)\n",
            "\n",
            "--test loss tf.Tensor(0.009368645, shape=(), dtype=float32)\n",
            "--test accuracy tf.Tensor(0.9959, shape=(), dtype=float32)\n",
            "Epoch 5\n",
            "--train loss tf.Tensor(0.0094829975, shape=(), dtype=float32)\n",
            "--train accuracy tf.Tensor(0.99663335, shape=(), dtype=float32)\n",
            "\n",
            "--test loss tf.Tensor(0.005102136, shape=(), dtype=float32)\n",
            "--test accuracy tf.Tensor(0.9985, shape=(), dtype=float32)\n"
          ],
          "name": "stdout"
        }
      ]
    },
    {
      "cell_type": "code",
      "metadata": {
        "colab": {
          "base_uri": "https://localhost:8080/"
        },
        "id": "EVKfrS0nlXnP",
        "outputId": "7a5a81a5-fe23-49c1-aa38-46b807826060"
      },
      "source": [
        "x_train[0].shape"
      ],
      "execution_count": 14,
      "outputs": [
        {
          "output_type": "execute_result",
          "data": {
            "text/plain": [
              "(28, 28, 1)"
            ]
          },
          "metadata": {},
          "execution_count": 14
        }
      ]
    },
    {
      "cell_type": "code",
      "metadata": {
        "colab": {
          "base_uri": "https://localhost:8080/"
        },
        "id": "YKkXthXrX5Qb",
        "outputId": "9a4130ed-4ee8-4e4f-e931-11aa06dece19"
      },
      "source": [
        "np.argmax(model.predict(tf.expand_dims(x_test[0],axis=0)),axis=1)"
      ],
      "execution_count": 15,
      "outputs": [
        {
          "output_type": "execute_result",
          "data": {
            "text/plain": [
              "array([7])"
            ]
          },
          "metadata": {},
          "execution_count": 15
        }
      ]
    },
    {
      "cell_type": "code",
      "metadata": {
        "colab": {
          "base_uri": "https://localhost:8080/"
        },
        "id": "cGIMlXJXi99K",
        "outputId": "de12da7e-6467-4f8a-8f68-8eda76ca293d"
      },
      "source": [
        "y_test[0]"
      ],
      "execution_count": 16,
      "outputs": [
        {
          "output_type": "execute_result",
          "data": {
            "text/plain": [
              "7"
            ]
          },
          "metadata": {},
          "execution_count": 16
        }
      ]
    },
    {
      "cell_type": "code",
      "metadata": {
        "id": "zYBeg9GjjDii"
      },
      "source": [
        "y_train_pred=np.argmax(model.predict(x_train),axis=1)\n",
        "y_test_pred=np.argmax(model.predict(x_test),axis=1)"
      ],
      "execution_count": 17,
      "outputs": []
    },
    {
      "cell_type": "code",
      "metadata": {
        "id": "hYJpzU49kNH1"
      },
      "source": [
        "from tensorflow.keras.metrics import Accuracy,Precision\n",
        "from sklearn.metrics import accuracy_score,precision_score,roc_curve,confusion_matrix\n",
        "import seaborn as sns\n",
        "import matplotlib.pyplot as plt"
      ],
      "execution_count": 18,
      "outputs": []
    },
    {
      "cell_type": "code",
      "metadata": {
        "colab": {
          "base_uri": "https://localhost:8080/",
          "height": 592
        },
        "id": "jSSMreIol-hl",
        "outputId": "b79561e9-40d7-48a9-f281-090756c8bfdf"
      },
      "source": [
        "cm=confusion_matrix(y_train,y_train_pred)\n",
        "plt.figure(figsize=(10,10))\n",
        "sns.heatmap(cm,annot=True,fmt='.0f',)\n",
        "plt.show()"
      ],
      "execution_count": 19,
      "outputs": [
        {
          "output_type": "display_data",
          "data": {
            "image/png": "[encoded data removed]",
            "text/plain": [
              "<Figure size 720x720 with 2 Axes>"
            ]
          },
          "metadata": {
            "needs_background": "light"
          }
        }
      ]
    },
    {
      "cell_type": "code",
      "metadata": {
        "colab": {
          "base_uri": "https://localhost:8080/",
          "height": 592
        },
        "id": "bHo9wi3xmG9x",
        "outputId": "cd3954a7-22d2-4c54-d631-a26b733935da"
      },
      "source": [
        "cm=confusion_matrix(y_test,y_test_pred)\n",
        "plt.figure(figsize=(10,10))\n",
        "sns.heatmap(cm,annot=True,fmt='.0f',)\n",
        "plt.show()"
      ],
      "execution_count": 20,
      "outputs": [
        {
          "output_type": "display_data",
          "data": {
            "image/png": "[encoded data removed]",
            "text/plain": [
              "<Figure size 720x720 with 2 Axes>"
            ]
          },
          "metadata": {
            "needs_background": "light"
          }
        }
      ]
    },
    {
      "cell_type": "code",
      "metadata": {
        "id": "CGgJv6SymHha"
      },
      "source": [
        "from sklearn.model_selection import cross_val_score,cross_validate,cross_val_predict"
      ],
      "execution_count": 21,
      "outputs": []
    },
    {
      "cell_type": "code",
      "metadata": {
        "colab": {
          "base_uri": "https://localhost:8080/"
        },
        "id": "yoiXBIaKnN7Y",
        "outputId": "f9ba87c8-be11-401f-aeed-3cfddfb37d84"
      },
      "source": [
        "accuracy_score(y_test,y_test_pred)"
      ],
      "execution_count": 22,
      "outputs": [
        {
          "output_type": "execute_result",
          "data": {
            "text/plain": [
              "0.9996"
            ]
          },
          "metadata": {},
          "execution_count": 22
        }
      ]
    },
    {
      "cell_type": "code",
      "metadata": {
        "colab": {
          "base_uri": "https://localhost:8080/"
        },
        "id": "R-MUGgUMp3cK",
        "outputId": "d6e849fd-8bf9-4fe9-dfb7-96e5a4f2a52a"
      },
      "source": [
        "precision_score(y_test,y_test_pred,average='weighted')"
      ],
      "execution_count": 24,
      "outputs": [
        {
          "output_type": "execute_result",
          "data": {
            "text/plain": [
              "0.999601027546681"
            ]
          },
          "metadata": {},
          "execution_count": 24
        }
      ]
    },
    {
      "cell_type": "code",
      "metadata": {
        "id": "kZTvmVHJp6DS"
      },
      "source": [
        ""
      ],
      "execution_count": null,
      "outputs": []
    }
  ]
}