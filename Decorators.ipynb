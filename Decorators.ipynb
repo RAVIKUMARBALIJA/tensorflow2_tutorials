{
  "nbformat": 4,
  "nbformat_minor": 0,
  "metadata": {
    "colab": {
      "name": "Decorators.ipynb",
      "provenance": [],
      "collapsed_sections": [],
      "authorship_tag": "ABX9TyMFpQUp2bmi983Ye9ELSDv5",
      "include_colab_link": true
    },
    "kernelspec": {
      "name": "python3",
      "display_name": "Python 3"
    },
    "language_info": {
      "name": "python"
    }
  },
  "cells": [
    {
      "cell_type": "markdown",
      "metadata": {
        "id": "view-in-github",
        "colab_type": "text"
      },
      "source": [
        "<a href=\"https://colab.research.google.com/github/RAVIKUMARBALIJA/tensorflow2_tutorials/blob/main/Decorators.ipynb\" target=\"_parent\"><img src=\"https://colab.research.google.com/assets/colab-badge.svg\" alt=\"Open In Colab\"/></a>"
      ]
    },
    {
      "cell_type": "code",
      "metadata": {
        "id": "BldGUK424r4W"
      },
      "source": [
        "def uppercase_decorator(function):\n",
        "    def wrapper():\n",
        "        func = function()\n",
        "        make_uppercase = func.upper()\n",
        "        return make_uppercase\n",
        "\n",
        "    return wrapper"
      ],
      "execution_count": 35,
      "outputs": []
    },
    {
      "cell_type": "code",
      "metadata": {
        "id": "FrRaOYgGpr4N"
      },
      "source": [
        "def say_hi():\n",
        "    return 'good morning'"
      ],
      "execution_count": 36,
      "outputs": []
    },
    {
      "cell_type": "code",
      "metadata": {
        "colab": {
          "base_uri": "https://localhost:8080/",
          "height": 35
        },
        "id": "iPUH38Qtpy9G",
        "outputId": "1986876c-9eff-41f6-db96-258a7cb8fbe0"
      },
      "source": [
        "decorate=uppercase_decorator(say_hi)\n",
        "decorate()"
      ],
      "execution_count": 40,
      "outputs": [
        {
          "output_type": "execute_result",
          "data": {
            "application/vnd.google.colaboratory.intrinsic+json": {
              "type": "string"
            },
            "text/plain": [
              "'GOOD MORNING'"
            ]
          },
          "metadata": {},
          "execution_count": 40
        }
      ]
    },
    {
      "cell_type": "code",
      "metadata": {
        "colab": {
          "base_uri": "https://localhost:8080/",
          "height": 35
        },
        "id": "PDuTMC58qWIj",
        "outputId": "16d354de-409b-4f22-ce7b-a51b6645609b"
      },
      "source": [
        "uppercase_decorator(say_hi)()"
      ],
      "execution_count": 46,
      "outputs": [
        {
          "output_type": "execute_result",
          "data": {
            "application/vnd.google.colaboratory.intrinsic+json": {
              "type": "string"
            },
            "text/plain": [
              "'GOOD MORNING'"
            ]
          },
          "metadata": {},
          "execution_count": 46
        }
      ]
    },
    {
      "cell_type": "code",
      "metadata": {
        "id": "jyF7sKpVqd20"
      },
      "source": [
        "@uppercase_decorator\n",
        "def new_func():\n",
        "  return 'good night'"
      ],
      "execution_count": 48,
      "outputs": []
    },
    {
      "cell_type": "code",
      "metadata": {
        "colab": {
          "base_uri": "https://localhost:8080/",
          "height": 35
        },
        "id": "mmznzd9JqmLt",
        "outputId": "c8392b91-afc5-44b8-955d-db2234e9b726"
      },
      "source": [
        "new_func()"
      ],
      "execution_count": 50,
      "outputs": [
        {
          "output_type": "execute_result",
          "data": {
            "application/vnd.google.colaboratory.intrinsic+json": {
              "type": "string"
            },
            "text/plain": [
              "'GOOD NIGHT'"
            ]
          },
          "metadata": {},
          "execution_count": 50
        }
      ]
    },
    {
      "cell_type": "code",
      "metadata": {
        "id": "FX6erQGjuLGr"
      },
      "source": [
        "def split_string(function):\n",
        "  def wrapper():\n",
        "    func=function()\n",
        "    splitted_text=func.split()\n",
        "    return splitted_text\n",
        "  return wrapper"
      ],
      "execution_count": 54,
      "outputs": []
    },
    {
      "cell_type": "code",
      "metadata": {
        "id": "RI6TSe8RuoYC"
      },
      "source": [
        "@split_string\n",
        "@uppercase_decorator\n",
        "def split_upper():\n",
        "  return 'Hello! how are you. Good morning'"
      ],
      "execution_count": 55,
      "outputs": []
    },
    {
      "cell_type": "code",
      "metadata": {
        "colab": {
          "base_uri": "https://localhost:8080/"
        },
        "id": "UBDPM0VQu2GE",
        "outputId": "ec4dcdf5-4e21-4c23-96c5-afcecb294e44"
      },
      "source": [
        "split_upper()"
      ],
      "execution_count": 56,
      "outputs": [
        {
          "output_type": "execute_result",
          "data": {
            "text/plain": [
              "['HELLO!', 'HOW', 'ARE', 'YOU.', 'GOOD', 'MORNING']"
            ]
          },
          "metadata": {},
          "execution_count": 56
        }
      ]
    },
    {
      "cell_type": "code",
      "metadata": {
        "id": "-t_iqf1-nNGn"
      },
      "source": [
        "def uppercase_decorator2(function,msg):\n",
        "    def wrapper():\n",
        "        func = function(msg)\n",
        "        make_uppercase = func.upper()\n",
        "        return make_uppercase\n",
        "\n",
        "    return wrapper"
      ],
      "execution_count": 41,
      "outputs": []
    },
    {
      "cell_type": "code",
      "metadata": {
        "colab": {
          "base_uri": "https://localhost:8080/",
          "height": 35
        },
        "id": "2ut7dMYZnjzt",
        "outputId": "662702e5-9900-43d3-fc14-3271db8609b4"
      },
      "source": [
        "def say_hi2(message):\n",
        "    return message\n",
        "\n",
        "decorate = uppercase_decorator2(say_hi2,'good morning')\n",
        "decorate()"
      ],
      "execution_count": 43,
      "outputs": [
        {
          "output_type": "execute_result",
          "data": {
            "application/vnd.google.colaboratory.intrinsic+json": {
              "type": "string"
            },
            "text/plain": [
              "'GOOD MORNING'"
            ]
          },
          "metadata": {},
          "execution_count": 43
        }
      ]
    },
    {
      "cell_type": "code",
      "metadata": {
        "colab": {
          "base_uri": "https://localhost:8080/",
          "height": 35
        },
        "id": "v3URfhJioBVZ",
        "outputId": "53b67ca5-4404-411a-cfef-5ac98cbbe709"
      },
      "source": [
        "uppercase_decorator2(say_hi2,'Hello Papa')()"
      ],
      "execution_count": 45,
      "outputs": [
        {
          "output_type": "execute_result",
          "data": {
            "application/vnd.google.colaboratory.intrinsic+json": {
              "type": "string"
            },
            "text/plain": [
              "'HELLO PAPA'"
            ]
          },
          "metadata": {},
          "execution_count": 45
        }
      ]
    },
    {
      "cell_type": "code",
      "metadata": {
        "id": "lLt2DJkoot1R"
      },
      "source": [
        "def decorator_with_arguments(function):\n",
        "  def wrapper(arg1,arg2):\n",
        "    print(f'my arguments are {arg1},{arg2}')\n",
        "    function(arg1,arg2)\n",
        "  return wrapper"
      ],
      "execution_count": 57,
      "outputs": []
    },
    {
      "cell_type": "code",
      "metadata": {
        "id": "FNQhq9-RpH4Z"
      },
      "source": [
        "@decorator_with_arguments\n",
        "def cities(city1,city2):\n",
        "  print(f'i love {city1} and {city2}')"
      ],
      "execution_count": 64,
      "outputs": []
    },
    {
      "cell_type": "code",
      "metadata": {
        "colab": {
          "base_uri": "https://localhost:8080/"
        },
        "id": "j8P_ijE4wTqS",
        "outputId": "535ce95f-9db0-4ccb-d2ab-fb91f3ad967c"
      },
      "source": [
        "cities('Bellary','Adoni')"
      ],
      "execution_count": 67,
      "outputs": [
        {
          "output_type": "stream",
          "text": [
            "my arguments are Bellary,Adoni\n",
            "i love Bellary and Adoni\n"
          ],
          "name": "stdout"
        }
      ]
    },
    {
      "cell_type": "code",
      "metadata": {
        "colab": {
          "base_uri": "https://localhost:8080/"
        },
        "id": "dUhErj2TwU81",
        "outputId": "a2b93181-20f7-4502-937b-10aeb05ac85f"
      },
      "source": [
        "def decorator_maker_with_arguments(decorator_arg1, decorator_arg2, decorator_arg3):\n",
        "    def decorator(func):\n",
        "        def wrapper(function_arg1, function_arg2, function_arg3) :\n",
        "            \"This is the wrapper function\"\n",
        "            print(\"The wrapper can access all the variables\\n\"\n",
        "                  \"\\t- from the decorator maker: {0} {1} {2}\\n\"\n",
        "                  \"\\t- from the function call: {3} {4} {5}\\n\"\n",
        "                  \"and pass them to the decorated function\"\n",
        "                  .format(decorator_arg1, decorator_arg2,decorator_arg3,\n",
        "                          function_arg1, function_arg2,function_arg3))\n",
        "            return func(function_arg1, function_arg2,function_arg3)\n",
        "\n",
        "        return wrapper\n",
        "\n",
        "    return decorator\n",
        "\n",
        "pandas = \"Pandas\"\n",
        "@decorator_maker_with_arguments(pandas, \"Numpy\",\"Scikit-learn\")\n",
        "def decorated_function_with_arguments(function_arg1, function_arg2,function_arg3):\n",
        "    print(\"This is the decorated function and it only knows about its arguments: {0}\"\n",
        "           \" {1}\" \" {2}\".format(function_arg1, function_arg2,function_arg3))\n",
        "\n",
        "decorated_function_with_arguments(pandas, \"Science\", \"Tools\")"
      ],
      "execution_count": 75,
      "outputs": [
        {
          "output_type": "stream",
          "text": [
            "The wrapper can access all the variables\n",
            "\t- from the decorator maker: Pandas Numpy Scikit-learn\n",
            "\t- from the function call: Pandas Science Tools\n",
            "and pass them to the decorated function\n",
            "This is the decorated function and it only knows about its arguments: Pandas Science Tools\n"
          ],
          "name": "stdout"
        }
      ]
    },
    {
      "cell_type": "code",
      "metadata": {
        "colab": {
          "base_uri": "https://localhost:8080/",
          "height": 35
        },
        "id": "eYkPEGvF0VZu",
        "outputId": "74b5af93-a043-43fb-cf1f-13d7b485871e"
      },
      "source": [
        "decorated_function_with_arguments.__name__"
      ],
      "execution_count": 76,
      "outputs": [
        {
          "output_type": "execute_result",
          "data": {
            "application/vnd.google.colaboratory.intrinsic+json": {
              "type": "string"
            },
            "text/plain": [
              "'wrapper'"
            ]
          },
          "metadata": {},
          "execution_count": 76
        }
      ]
    },
    {
      "cell_type": "code",
      "metadata": {
        "colab": {
          "base_uri": "https://localhost:8080/",
          "height": 35
        },
        "id": "HQAXomXa0kcL",
        "outputId": "c5309080-e1ba-4d85-a46f-c85a0a781161"
      },
      "source": [
        "decorated_function_with_arguments.__doc__"
      ],
      "execution_count": 77,
      "outputs": [
        {
          "output_type": "execute_result",
          "data": {
            "application/vnd.google.colaboratory.intrinsic+json": {
              "type": "string"
            },
            "text/plain": [
              "'This is the wrapper function'"
            ]
          },
          "metadata": {},
          "execution_count": 77
        }
      ]
    },
    {
      "cell_type": "code",
      "metadata": {
        "id": "DZPb_DoX1uwt"
      },
      "source": [
        "import functools\n",
        "\n",
        "def uppercase_decorator(func):\n",
        "    @functools.wraps(func)\n",
        "    def wrapper():\n",
        "        return func().upper()\n",
        "    return wrapper"
      ],
      "execution_count": 78,
      "outputs": []
    },
    {
      "cell_type": "code",
      "metadata": {
        "colab": {
          "base_uri": "https://localhost:8080/",
          "height": 35
        },
        "id": "kFCiJ4-s3_7q",
        "outputId": "ca488908-95ec-42b4-d94d-55efa87c8b47"
      },
      "source": [
        "@uppercase_decorator\n",
        "def say_hi():\n",
        "    \"This will say hi\"\n",
        "    return 'hello there'\n",
        "\n",
        "say_hi()"
      ],
      "execution_count": 79,
      "outputs": [
        {
          "output_type": "execute_result",
          "data": {
            "application/vnd.google.colaboratory.intrinsic+json": {
              "type": "string"
            },
            "text/plain": [
              "'HELLO THERE'"
            ]
          },
          "metadata": {},
          "execution_count": 79
        }
      ]
    },
    {
      "cell_type": "code",
      "metadata": {
        "colab": {
          "base_uri": "https://localhost:8080/",
          "height": 35
        },
        "id": "tsZMNUKK4BpV",
        "outputId": "ddf1034e-c68c-42e3-b85d-431463bb9db8"
      },
      "source": [
        "say_hi.__doc__"
      ],
      "execution_count": 80,
      "outputs": [
        {
          "output_type": "execute_result",
          "data": {
            "application/vnd.google.colaboratory.intrinsic+json": {
              "type": "string"
            },
            "text/plain": [
              "'This will say hi'"
            ]
          },
          "metadata": {},
          "execution_count": 80
        }
      ]
    },
    {
      "cell_type": "code",
      "metadata": {
        "colab": {
          "base_uri": "https://localhost:8080/",
          "height": 35
        },
        "id": "hmC2AVSU4DQV",
        "outputId": "4856e123-8121-47ed-a076-98395ae1d7ca"
      },
      "source": [
        "uppercase_decorator.__name__"
      ],
      "execution_count": 84,
      "outputs": [
        {
          "output_type": "execute_result",
          "data": {
            "application/vnd.google.colaboratory.intrinsic+json": {
              "type": "string"
            },
            "text/plain": [
              "'uppercase_decorator'"
            ]
          },
          "metadata": {},
          "execution_count": 84
        }
      ]
    },
    {
      "cell_type": "code",
      "metadata": {
        "id": "XGDFXl854Jeh"
      },
      "source": [
        "uppercase_decorator.__doc__"
      ],
      "execution_count": 85,
      "outputs": []
    },
    {
      "cell_type": "code",
      "metadata": {
        "id": "CrL1WecC4N6s"
      },
      "source": [
        ""
      ],
      "execution_count": null,
      "outputs": []
    }
  ]
}