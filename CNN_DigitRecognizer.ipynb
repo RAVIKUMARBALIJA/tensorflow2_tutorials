{
  "nbformat": 4,
  "nbformat_minor": 0,
  "metadata": {
    "colab": {
      "name": "CNN_DigitRecognizer.ipynb",
      "provenance": [],
      "collapsed_sections": [],
      "authorship_tag": "ABX9TyP8NGFi51bIIRry/ZsDVtOW",
      "include_colab_link": true
    },
    "kernelspec": {
      "name": "python3",
      "display_name": "Python 3"
    },
    "language_info": {
      "name": "python"
    }
  },
  "cells": [
    {
      "cell_type": "markdown",
      "metadata": {
        "id": "view-in-github",
        "colab_type": "text"
      },
      "source": [
        "<a href=\"https://colab.research.google.com/github/RAVIKUMARBALIJA/tensorflow2_tutorials/blob/main/CNN_DigitRecognizer.ipynb\" target=\"_parent\"><img src=\"https://colab.research.google.com/assets/colab-badge.svg\" alt=\"Open In Colab\"/></a>"
      ]
    },
    {
      "cell_type": "code",
      "metadata": {
        "id": "MKDYc4wN_dNx"
      },
      "source": [
        "import tensorflow as tf\n",
        "import numpy as np\n",
        "import pandas as pd\n",
        "import matplotlib.pyplot as plt\n",
        "from tensorflow import keras\n",
        "from matplotlib.cm import binary\n",
        "from tensorflow.keras.layers import Dense,Flatten,Dropout,Conv2D,Reshape\n",
        "from tensorflow.keras.models import Model,Sequential\n",
        "from tensorflow.keras.optimizers import Adam"
      ],
      "execution_count": 23,
      "outputs": []
    },
    {
      "cell_type": "code",
      "metadata": {
        "id": "FVLXfSntAeLR"
      },
      "source": [
        "from sklearn.preprocessing import StandardScaler"
      ],
      "execution_count": 4,
      "outputs": []
    },
    {
      "cell_type": "code",
      "metadata": {
        "id": "XC1WifJ8_80a"
      },
      "source": [
        "mnist=tf.keras.datasets.mnist"
      ],
      "execution_count": 2,
      "outputs": []
    },
    {
      "cell_type": "code",
      "metadata": {
        "id": "FSV2vxVlABYP"
      },
      "source": [
        "(x_train,y_train),(x_test,y_test)=mnist.load_data()\n",
        "x_train, x_test = x_train / 255.0, x_test / 255.0"
      ],
      "execution_count": 12,
      "outputs": []
    },
    {
      "cell_type": "code",
      "metadata": {
        "id": "I7s1MjqMBSo0"
      },
      "source": [
        "batch_size = 16\n",
        "epochs = 100\n",
        "\n",
        "conv1_filter_size = 3\n",
        "conv1_p = 'valid'\n",
        "conv1_s = 1\n",
        "conv1_filters = 3\n",
        "\n",
        "conv2_filter_size = 5\n",
        "conv2_p = 'valid'\n",
        "conv2_s = 1\n",
        "conv2_filters = 6\n",
        "\n",
        "conv3_filter_size = 5\n",
        "conv3_p = 'valid'\n",
        "conv3_s = 2\n",
        "conv3_filters = 12\n",
        "\n",
        "conv4_filter_size = 5\n",
        "conv4_p = 'valid'\n",
        "conv4_s = 2\n",
        "conv4_filters = 24"
      ],
      "execution_count": 14,
      "outputs": []
    },
    {
      "cell_type": "code",
      "metadata": {
        "id": "DJka8eseDjnB"
      },
      "source": [
        "img_rows, img_cols = 28, 28"
      ],
      "execution_count": 16,
      "outputs": []
    },
    {
      "cell_type": "code",
      "metadata": {
        "id": "_zEorDzcE4NX"
      },
      "source": [
        ""
      ],
      "execution_count": null,
      "outputs": []
    },
    {
      "cell_type": "code",
      "metadata": {
        "id": "QYxyneDzDN5Z"
      },
      "source": [
        "cnn_model = keras.Sequential()\n",
        "\n",
        "cnn_model.add(keras.layers.Input(shape=(28,28,1)))\n",
        "cnn_model.add(Reshape(target_shape=(-1,28,28,1)))\n",
        "cnn_model.add(keras.layers.Conv2D(activation=tf.nn.relu, filters=conv1_filters, \\\n",
        "                     kernel_size=conv1_filter_size, strides=conv1_s, padding=conv1_p))\n",
        "\n",
        "cnn_model.add(keras.layers.Conv2D(activation=tf.nn.relu, filters=conv2_filters, \\\n",
        "                     kernel_size=conv2_filter_size, strides=conv2_s, padding=conv2_p))\n",
        "\n",
        "cnn_model.add(keras.layers.Conv2D(activation=tf.nn.relu, filters=conv3_filters, \\\n",
        "                     kernel_size=conv3_filter_size, strides=conv3_s, padding=conv3_p))\n",
        "\n",
        "cnn_model.add(keras.layers.Conv2D(activation=tf.nn.relu, filters=conv4_filters, \\\n",
        "                     kernel_size=conv4_filter_size, strides=conv4_s, padding=conv4_p))\n",
        "\n",
        "cnn_model.add(keras.layers.Flatten())\n",
        "cnn_model.add(keras.layers.Dense(216, activation='relu'))\n",
        "#cnn_model.add(Dropout(rate=0.5))\n",
        "cnn_model.add(keras.layers.Dense(108, activation='relu'))\n",
        "cnn_model.add(keras.layers.Dense(10, activation='softmax'))"
      ],
      "execution_count": 28,
      "outputs": []
    },
    {
      "cell_type": "code",
      "metadata": {
        "id": "ba4OcSpqGhTD"
      },
      "source": [
        "loss_func=tf.keras.losses.SparseCategoricalCrossentropy(from_logits=True)"
      ],
      "execution_count": 35,
      "outputs": []
    },
    {
      "cell_type": "code",
      "metadata": {
        "id": "VLFl8cLPDc6Q"
      },
      "source": [
        "cnn_model.compile(optimizer='adam',loss=loss_func,metrics=['accuracy'])"
      ],
      "execution_count": 36,
      "outputs": []
    },
    {
      "cell_type": "code",
      "metadata": {
        "colab": {
          "base_uri": "https://localhost:8080/"
        },
        "id": "CPJiTtXbEIE8",
        "outputId": "95baea4a-45d3-4d14-8e5a-e3fc17dc1212"
      },
      "source": [
        "x_train.shape"
      ],
      "execution_count": 37,
      "outputs": [
        {
          "output_type": "execute_result",
          "data": {
            "text/plain": [
              "(60000, 28, 28)"
            ]
          },
          "metadata": {
            "tags": []
          },
          "execution_count": 37
        }
      ]
    },
    {
      "cell_type": "code",
      "metadata": {
        "colab": {
          "base_uri": "https://localhost:8080/"
        },
        "id": "Ee3lhgZNEoZG",
        "outputId": "622ed66a-870d-4763-fb61-5f4a882fc90f"
      },
      "source": [
        "cnn_model.predict(x_train[:1].reshape(-1,28,28,1))"
      ],
      "execution_count": 38,
      "outputs": [
        {
          "output_type": "execute_result",
          "data": {
            "text/plain": [
              "array([[0.09829482, 0.10043803, 0.09986354, 0.09562256, 0.09401487,\n",
              "        0.10715009, 0.10245035, 0.10179461, 0.10201849, 0.09835267]],\n",
              "      dtype=float32)"
            ]
          },
          "metadata": {
            "tags": []
          },
          "execution_count": 38
        }
      ]
    },
    {
      "cell_type": "code",
      "metadata": {
        "colab": {
          "base_uri": "https://localhost:8080/"
        },
        "id": "ZXEHTWV5Fc35",
        "outputId": "5732d56e-2387-4093-a17a-53cac67f79a1"
      },
      "source": [
        "cnn_model.fit(x_train,y_train,epochs=20)"
      ],
      "execution_count": 40,
      "outputs": [
        {
          "output_type": "stream",
          "text": [
            "Epoch 1/20\n",
            "1875/1875 [==============================] - 48s 26ms/step - loss: 0.0644 - accuracy: 0.9803\n",
            "Epoch 2/20\n",
            "1875/1875 [==============================] - 48s 26ms/step - loss: 0.0479 - accuracy: 0.9853\n",
            "Epoch 3/20\n",
            "1875/1875 [==============================] - 49s 26ms/step - loss: 0.0375 - accuracy: 0.9878\n",
            "Epoch 4/20\n",
            "1875/1875 [==============================] - 49s 26ms/step - loss: 0.0304 - accuracy: 0.9905\n",
            "Epoch 5/20\n",
            "1875/1875 [==============================] - 50s 27ms/step - loss: 0.0266 - accuracy: 0.9913\n",
            "Epoch 6/20\n",
            "1875/1875 [==============================] - 50s 27ms/step - loss: 0.0221 - accuracy: 0.9928\n",
            "Epoch 7/20\n",
            "1875/1875 [==============================] - 49s 26ms/step - loss: 0.0201 - accuracy: 0.9936\n",
            "Epoch 8/20\n",
            "1875/1875 [==============================] - 49s 26ms/step - loss: 0.0177 - accuracy: 0.9942\n",
            "Epoch 9/20\n",
            "1875/1875 [==============================] - 49s 26ms/step - loss: 0.0159 - accuracy: 0.9951\n",
            "Epoch 10/20\n",
            "1875/1875 [==============================] - 49s 26ms/step - loss: 0.0149 - accuracy: 0.9952\n",
            "Epoch 11/20\n",
            "1875/1875 [==============================] - 50s 26ms/step - loss: 0.0146 - accuracy: 0.9956\n",
            "Epoch 12/20\n",
            "1875/1875 [==============================] - 50s 27ms/step - loss: 0.0114 - accuracy: 0.9963\n",
            "Epoch 13/20\n",
            "1875/1875 [==============================] - 50s 26ms/step - loss: 0.0117 - accuracy: 0.9965\n",
            "Epoch 14/20\n",
            "1875/1875 [==============================] - 50s 26ms/step - loss: 0.0112 - accuracy: 0.9964\n",
            "Epoch 15/20\n",
            "1875/1875 [==============================] - 50s 26ms/step - loss: 0.0118 - accuracy: 0.9962\n",
            "Epoch 16/20\n",
            "1875/1875 [==============================] - 50s 27ms/step - loss: 0.0112 - accuracy: 0.9964\n",
            "Epoch 17/20\n",
            "1875/1875 [==============================] - 50s 27ms/step - loss: 0.0085 - accuracy: 0.9973\n",
            "Epoch 18/20\n",
            "1875/1875 [==============================] - 50s 26ms/step - loss: 0.0079 - accuracy: 0.9976\n",
            "Epoch 19/20\n",
            "1875/1875 [==============================] - 49s 26ms/step - loss: 0.0099 - accuracy: 0.9969\n",
            "Epoch 20/20\n",
            "1875/1875 [==============================] - 49s 26ms/step - loss: 0.0083 - accuracy: 0.9976\n"
          ],
          "name": "stdout"
        },
        {
          "output_type": "execute_result",
          "data": {
            "text/plain": [
              "<tensorflow.python.keras.callbacks.History at 0x7f2b013a43d0>"
            ]
          },
          "metadata": {
            "tags": []
          },
          "execution_count": 40
        }
      ]
    },
    {
      "cell_type": "code",
      "metadata": {
        "colab": {
          "base_uri": "https://localhost:8080/"
        },
        "id": "l2xFlyU0ForZ",
        "outputId": "6a4d8b85-e015-42b5-9307-ca17d20cb235"
      },
      "source": [
        "cnn_model.evaluate(x_test,y_test)"
      ],
      "execution_count": 41,
      "outputs": [
        {
          "output_type": "stream",
          "text": [
            "313/313 [==============================] - 4s 12ms/step - loss: 0.0472 - accuracy: 0.9896\n"
          ],
          "name": "stdout"
        },
        {
          "output_type": "execute_result",
          "data": {
            "text/plain": [
              "[0.047209519892930984, 0.9896000027656555]"
            ]
          },
          "metadata": {
            "tags": []
          },
          "execution_count": 41
        }
      ]
    },
    {
      "cell_type": "code",
      "metadata": {
        "colab": {
          "base_uri": "https://localhost:8080/"
        },
        "id": "RZCtWO7xKtl6",
        "outputId": "f1fa26d8-9a10-4803-e8a2-159606d5c4d3"
      },
      "source": [
        "np.argmax(cnn_model.predict(x_test[100:101]))"
      ],
      "execution_count": 54,
      "outputs": [
        {
          "output_type": "execute_result",
          "data": {
            "text/plain": [
              "6"
            ]
          },
          "metadata": {
            "tags": []
          },
          "execution_count": 54
        }
      ]
    },
    {
      "cell_type": "code",
      "metadata": {
        "colab": {
          "base_uri": "https://localhost:8080/"
        },
        "id": "NUFTpHOlK0Mu",
        "outputId": "b04dda62-4f4a-4c9f-8c64-02ef361f03f3"
      },
      "source": [
        "x_train[100:101].shape"
      ],
      "execution_count": 51,
      "outputs": [
        {
          "output_type": "execute_result",
          "data": {
            "text/plain": [
              "(1, 28, 28)"
            ]
          },
          "metadata": {
            "tags": []
          },
          "execution_count": 51
        }
      ]
    },
    {
      "cell_type": "code",
      "metadata": {
        "colab": {
          "base_uri": "https://localhost:8080/"
        },
        "id": "9tDywVpyK5-s",
        "outputId": "fc95ff3f-aaa9-4137-a06b-503aa4b5dc85"
      },
      "source": [
        "y_test[100:101]"
      ],
      "execution_count": 55,
      "outputs": [
        {
          "output_type": "execute_result",
          "data": {
            "text/plain": [
              "array([6], dtype=uint8)"
            ]
          },
          "metadata": {
            "tags": []
          },
          "execution_count": 55
        }
      ]
    },
    {
      "cell_type": "code",
      "metadata": {
        "id": "20jlyLW3LRao"
      },
      "source": [
        ""
      ],
      "execution_count": null,
      "outputs": []
    }
  ]
}