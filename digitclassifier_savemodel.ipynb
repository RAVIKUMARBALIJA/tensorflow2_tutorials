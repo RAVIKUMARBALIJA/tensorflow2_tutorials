{
  "nbformat": 4,
  "nbformat_minor": 0,
  "metadata": {
    "colab": {
      "name": "digitclassifier_savemodel.ipynb",
      "provenance": [],
      "collapsed_sections": [],
      "mount_file_id": "1WJmEhJXu0_YoXS6w9y340SCLtfik4UNb",
      "authorship_tag": "ABX9TyPT9O1wVid7lnFrvqymKNVO",
      "include_colab_link": true
    },
    "kernelspec": {
      "name": "python3",
      "display_name": "Python 3"
    },
    "language_info": {
      "name": "python"
    },
    "accelerator": "GPU"
  },
  "cells": [
    {
      "cell_type": "markdown",
      "metadata": {
        "id": "view-in-github",
        "colab_type": "text"
      },
      "source": [
        "<a href=\"https://colab.research.google.com/github/RAVIKUMARBALIJA/tensorflow2_tutorials/blob/main/digitclassifier_savemodel.ipynb\" target=\"_parent\"><img src=\"https://colab.research.google.com/assets/colab-badge.svg\" alt=\"Open In Colab\"/></a>"
      ]
    },
    {
      "cell_type": "code",
      "metadata": {
        "id": "1mmqmvvSQTlV"
      },
      "source": [
        "import pandas as pd\n",
        "import numpy as np\n",
        "import tensorflow as tf\n",
        "import matplotlib.pyplot as plt\n",
        "import seaborn as sns\n",
        "import os"
      ],
      "execution_count": null,
      "outputs": []
    },
    {
      "cell_type": "code",
      "metadata": {
        "id": "TM2tu2gkOJYI"
      },
      "source": [
        "root='/content/drive/MyDrive/IN_Cls'\n",
        "os.chdir(root)\n",
        "assert root==os.getcwd()"
      ],
      "execution_count": null,
      "outputs": []
    },
    {
      "cell_type": "code",
      "metadata": {
        "id": "bDV8P9b8Z3mi"
      },
      "source": [
        "from tensorflow.keras.layers import Dense,Dropout,LeakyReLU,Flatten,Input\n",
        "from tensorflow.keras.models import Model,Sequential\n",
        "from tensorflow.keras.optimizers import Adam"
      ],
      "execution_count": null,
      "outputs": []
    },
    {
      "cell_type": "code",
      "metadata": {
        "colab": {
          "base_uri": "https://localhost:8080/"
        },
        "id": "MFhN9H3dZ5mH",
        "outputId": "664a3011-42f3-41ba-cdee-de81341cf4cb"
      },
      "source": [
        "print(tf.__version__)\n",
        "print(tf.keras.__version__)"
      ],
      "execution_count": null,
      "outputs": [
        {
          "output_type": "stream",
          "text": [
            "2.4.1\n",
            "2.4.0\n"
          ],
          "name": "stdout"
        }
      ]
    },
    {
      "cell_type": "code",
      "metadata": {
        "colab": {
          "base_uri": "https://localhost:8080/"
        },
        "id": "W8HVzDERbzv3",
        "outputId": "eef66fc8-a6e5-4ba2-9a1f-574bedbb424c"
      },
      "source": [
        "tf.config.list_physical_devices()"
      ],
      "execution_count": null,
      "outputs": [
        {
          "output_type": "execute_result",
          "data": {
            "text/plain": [
              "[PhysicalDevice(name='/physical_device:CPU:0', device_type='CPU'),\n",
              " PhysicalDevice(name='/physical_device:GPU:0', device_type='GPU')]"
            ]
          },
          "metadata": {
            "tags": []
          },
          "execution_count": 69
        }
      ]
    },
    {
      "cell_type": "code",
      "metadata": {
        "colab": {
          "base_uri": "https://localhost:8080/"
        },
        "id": "tsGobkPXcA8l",
        "outputId": "18bddc66-cd0c-4eee-cf2f-0207c00179d9"
      },
      "source": [
        "tf.config.list_logical_devices()"
      ],
      "execution_count": null,
      "outputs": [
        {
          "output_type": "execute_result",
          "data": {
            "text/plain": [
              "[LogicalDevice(name='/device:CPU:0', device_type='CPU'),\n",
              " LogicalDevice(name='/device:GPU:0', device_type='GPU')]"
            ]
          },
          "metadata": {
            "tags": []
          },
          "execution_count": 70
        }
      ]
    },
    {
      "cell_type": "code",
      "metadata": {
        "colab": {
          "base_uri": "https://localhost:8080/"
        },
        "id": "YPJTZ1q1cTge",
        "outputId": "c8ed98ea-644f-4a2e-99c9-f1e0920e0a1d"
      },
      "source": [
        "tf.config.list_physical_devices('CPU')"
      ],
      "execution_count": null,
      "outputs": [
        {
          "output_type": "execute_result",
          "data": {
            "text/plain": [
              "[PhysicalDevice(name='/physical_device:CPU:0', device_type='CPU')]"
            ]
          },
          "metadata": {
            "tags": []
          },
          "execution_count": 71
        }
      ]
    },
    {
      "cell_type": "code",
      "metadata": {
        "colab": {
          "base_uri": "https://localhost:8080/"
        },
        "id": "cdudZZ3fce_L",
        "outputId": "dd4c1eef-68c5-4d37-bb57-b4fc6c0bd20b"
      },
      "source": [
        "checklist=['CPU','GPU']\n",
        "for device in checklist:\n",
        "  info=tf.config.list_physical_devices(device)\n",
        "  if info:\n",
        "    print(f\"{device} is available\")\n",
        "    print(f\"details \\ {info}\")\n",
        "  else:\n",
        "    print(f\"{device} is not available\")"
      ],
      "execution_count": null,
      "outputs": [
        {
          "output_type": "stream",
          "text": [
            "CPU is available\n",
            "details \\ [PhysicalDevice(name='/physical_device:CPU:0', device_type='CPU')]\n",
            "GPU is available\n",
            "details \\ [PhysicalDevice(name='/physical_device:GPU:0', device_type='GPU')]\n"
          ],
          "name": "stdout"
        }
      ]
    },
    {
      "cell_type": "code",
      "metadata": {
        "id": "zBZSWFujdDaN"
      },
      "source": [
        "mnist=tf.keras.datasets.mnist"
      ],
      "execution_count": null,
      "outputs": []
    },
    {
      "cell_type": "code",
      "metadata": {
        "id": "L4fbZeZYdNh3"
      },
      "source": [
        "(x_train_full,y_train_full),(x_test,y_test)=mnist.load_data()"
      ],
      "execution_count": null,
      "outputs": []
    },
    {
      "cell_type": "code",
      "metadata": {
        "colab": {
          "base_uri": "https://localhost:8080/"
        },
        "id": "Gs1kJeZndPht",
        "outputId": "9f3c0f7f-f9a0-46cd-b800-a8d4a5d214fe"
      },
      "source": [
        "x_train_full.shape"
      ],
      "execution_count": null,
      "outputs": [
        {
          "output_type": "execute_result",
          "data": {
            "text/plain": [
              "(60000, 28, 28)"
            ]
          },
          "metadata": {
            "tags": []
          },
          "execution_count": 75
        }
      ]
    },
    {
      "cell_type": "code",
      "metadata": {
        "colab": {
          "base_uri": "https://localhost:8080/",
          "height": 35
        },
        "id": "3lsmqBvedo61",
        "outputId": "e4841039-973f-4cfa-a157-6da78c45f840"
      },
      "source": [
        "\"\"\"x_val=x_train_full[:5000]\n",
        "y_val=y_train_full[:5000]\n",
        "x_train=x_train_full[5000:]\n",
        "y_train=y_train_full[5000:]\n",
        "\"\"\""
      ],
      "execution_count": null,
      "outputs": [
        {
          "output_type": "execute_result",
          "data": {
            "application/vnd.google.colaboratory.intrinsic+json": {
              "type": "string"
            },
            "text/plain": [
              "'x_val=x_train_full[:5000]\\ny_val=y_train_full[:5000]\\nx_train=x_train_full[5000:]\\ny_train=y_train_full[5000:]\\n'"
            ]
          },
          "metadata": {
            "tags": []
          },
          "execution_count": 76
        }
      ]
    },
    {
      "cell_type": "code",
      "metadata": {
        "id": "qvLgMbXrd38W"
      },
      "source": [
        "x_val,x_train=x_train_full[:5000]/255.,x_train_full[5000:]/255.\n",
        "y_val,y_train=y_train_full[:5000],y_train_full[5000:]\n",
        "\n",
        "x_test=x_test/255."
      ],
      "execution_count": null,
      "outputs": []
    },
    {
      "cell_type": "code",
      "metadata": {
        "colab": {
          "base_uri": "https://localhost:8080/",
          "height": 248
        },
        "id": "gzPxPri5eyAo",
        "outputId": "f77c648a-55f6-44fe-8446-f26d57d5c145"
      },
      "source": [
        "plt.imshow(x_val[999],cmap='binary')\n",
        "plt.axis('off')\n",
        "plt.show()"
      ],
      "execution_count": null,
      "outputs": [
        {
          "output_type": "display_data",
          "data": {
            "image/png": "[encoded data removed]",
            "text/plain": [
              "<Figure size 432x288 with 1 Axes>"
            ]
          },
          "metadata": {
            "tags": [],
            "needs_background": "light"
          }
        }
      ]
    },
    {
      "cell_type": "code",
      "metadata": {
        "colab": {
          "base_uri": "https://localhost:8080/",
          "height": 803
        },
        "id": "oM0TK5ake2e7",
        "outputId": "18f0b237-3c6c-4c6a-f6e0-910d1ae596fb"
      },
      "source": [
        "plt.figure(figsize=(20,15))\n",
        "sns.heatmap(x_val[999],annot=True,cmap='binary')"
      ],
      "execution_count": null,
      "outputs": [
        {
          "output_type": "execute_result",
          "data": {
            "text/plain": [
              "<matplotlib.axes._subplots.AxesSubplot at 0x7f5eeeee3390>"
            ]
          },
          "metadata": {
            "tags": []
          },
          "execution_count": 79
        },
        {
          "output_type": "display_data",
          "data": {
            "image/png": "[encoded data removed]",
            "text/plain": [
              "<Figure size 1440x1080 with 2 Axes>"
            ]
          },
          "metadata": {
            "tags": [],
            "needs_background": "light"
          }
        }
      ]
    },
    {
      "cell_type": "code",
      "metadata": {
        "id": "OzZi3idzmVZU"
      },
      "source": [
        "def buildModel(optimizer='adam',dropout=False,dropout_rate=0.25,weight_regularizer='l2',activation_func='relu'):\n",
        "  input=Input(shape=(28,28),name='inputlayer')\n",
        "  y=Flatten()(input)\n",
        "  y=Dense(500,activation=activation_func,name='hidden1',kernel_regularizer=weight_regularizer)(y)\n",
        "  if dropout:\n",
        "    y=Dropout(rate=dropout_rate,)(y)\n",
        "  y=Dense(300,activation=activation_func,name='hidden2',kernel_regularizer=weight_regularizer)(y)\n",
        "  if dropout:\n",
        "    y=Dropout(rate=dropout_rate,)(y)\n",
        "  y=Dense(100,activation=activation_func,name='hidden3',kernel_regularizer=weight_regularizer)(y)\n",
        "  if dropout:\n",
        "    y=Dropout(rate=dropout_rate)(y)\n",
        "  output=Dense(10,activation=tf.nn.softmax,name=\"output\")(y)\n",
        "  model=Model(input,output,name=optimizer)\n",
        "  model.compile(optimizer=optimizer,loss='sparse_categorical_crossentropy',metrics=['accuracy'])\n",
        "  print(model.summary())\n",
        "  return model"
      ],
      "execution_count": null,
      "outputs": []
    },
    {
      "cell_type": "code",
      "metadata": {
        "id": "N4-AlDhV4hqi"
      },
      "source": [
        "def train_model(model_obj,epochs=30):\n",
        "  history=model_obj.fit(x_train,y_train,epochs=30,validation_data=(x_val,y_val))\n",
        "  return pd.DataFrame(history.history)"
      ],
      "execution_count": null,
      "outputs": []
    },
    {
      "cell_type": "code",
      "metadata": {
        "id": "Rj7mSFjo406w"
      },
      "source": [
        "def plot_metrics(data,model_obj):\n",
        "  data.plot(figsize=(8,5))\n",
        "  plt.title(model_obj.name)\n",
        "  plt.grid(True)\n",
        "  plt.show()"
      ],
      "execution_count": null,
      "outputs": []
    },
    {
      "cell_type": "code",
      "metadata": {
        "colab": {
          "base_uri": "https://localhost:8080/"
        },
        "id": "5xuJT2z95KYq",
        "outputId": "d7956bc5-38c9-44ab-926d-aa4be6e371d9"
      },
      "source": [
        "adam_model=buildModel()"
      ],
      "execution_count": null,
      "outputs": [
        {
          "output_type": "stream",
          "text": [
            "Model: \"adam\"\n",
            "_________________________________________________________________\n",
            "Layer (type)                 Output Shape              Param #   \n",
            "=================================================================\n",
            "inputlayer (InputLayer)      [(None, 28, 28)]          0         \n",
            "_________________________________________________________________\n",
            "flatten_1 (Flatten)          (None, 784)               0         \n",
            "_________________________________________________________________\n",
            "hidden1 (Dense)              (None, 500)               392500    \n",
            "_________________________________________________________________\n",
            "hidden2 (Dense)              (None, 300)               150300    \n",
            "_________________________________________________________________\n",
            "hidden3 (Dense)              (None, 100)               30100     \n",
            "_________________________________________________________________\n",
            "output (Dense)               (None, 10)                1010      \n",
            "=================================================================\n",
            "Total params: 573,910\n",
            "Trainable params: 573,910\n",
            "Non-trainable params: 0\n",
            "_________________________________________________________________\n",
            "None\n"
          ],
          "name": "stdout"
        }
      ]
    },
    {
      "cell_type": "code",
      "metadata": {
        "colab": {
          "base_uri": "https://localhost:8080/"
        },
        "id": "zV-RCPvc4RVt",
        "outputId": "cb33af54-031f-4c4d-eaf8-6443463861fd"
      },
      "source": [
        "metrics=train_model(adam_model)"
      ],
      "execution_count": null,
      "outputs": [
        {
          "output_type": "stream",
          "text": [
            "Epoch 1/30\n",
            "1719/1719 [==============================] - 5s 3ms/step - loss: 2.2606 - accuracy: 0.8566 - val_loss: 0.6049 - val_accuracy: 0.9264\n",
            "Epoch 2/30\n",
            "1719/1719 [==============================] - 5s 3ms/step - loss: 0.6154 - accuracy: 0.9162 - val_loss: 0.5190 - val_accuracy: 0.9380\n",
            "Epoch 3/30\n",
            "1719/1719 [==============================] - 4s 3ms/step - loss: 0.5217 - accuracy: 0.9325 - val_loss: 0.4659 - val_accuracy: 0.9434\n",
            "Epoch 4/30\n",
            "1719/1719 [==============================] - 4s 3ms/step - loss: 0.4746 - accuracy: 0.9357 - val_loss: 0.4229 - val_accuracy: 0.9516\n",
            "Epoch 5/30\n",
            "1719/1719 [==============================] - 4s 3ms/step - loss: 0.4382 - accuracy: 0.9416 - val_loss: 0.4196 - val_accuracy: 0.9474\n",
            "Epoch 6/30\n",
            "1719/1719 [==============================] - 5s 3ms/step - loss: 0.4196 - accuracy: 0.9420 - val_loss: 0.3771 - val_accuracy: 0.9542\n",
            "Epoch 7/30\n",
            "1719/1719 [==============================] - 5s 3ms/step - loss: 0.4024 - accuracy: 0.9430 - val_loss: 0.3744 - val_accuracy: 0.9536\n",
            "Epoch 8/30\n",
            "1719/1719 [==============================] - 5s 3ms/step - loss: 0.3838 - accuracy: 0.9472 - val_loss: 0.3527 - val_accuracy: 0.9546\n",
            "Epoch 9/30\n",
            "1719/1719 [==============================] - 5s 3ms/step - loss: 0.3810 - accuracy: 0.9459 - val_loss: 0.3500 - val_accuracy: 0.9570\n",
            "Epoch 10/30\n",
            "1719/1719 [==============================] - 5s 3ms/step - loss: 0.3730 - accuracy: 0.9470 - val_loss: 0.3539 - val_accuracy: 0.9518\n",
            "Epoch 11/30\n",
            "1719/1719 [==============================] - 5s 3ms/step - loss: 0.3655 - accuracy: 0.9476 - val_loss: 0.3542 - val_accuracy: 0.9522\n",
            "Epoch 12/30\n",
            "1719/1719 [==============================] - 5s 3ms/step - loss: 0.3661 - accuracy: 0.9470 - val_loss: 0.3367 - val_accuracy: 0.9576\n",
            "Epoch 13/30\n",
            "1719/1719 [==============================] - 5s 3ms/step - loss: 0.3571 - accuracy: 0.9474 - val_loss: 0.3480 - val_accuracy: 0.9482\n",
            "Epoch 14/30\n",
            "1719/1719 [==============================] - 5s 3ms/step - loss: 0.3560 - accuracy: 0.9476 - val_loss: 0.3476 - val_accuracy: 0.9484\n",
            "Epoch 15/30\n",
            "1719/1719 [==============================] - 5s 3ms/step - loss: 0.3440 - accuracy: 0.9494 - val_loss: 0.3513 - val_accuracy: 0.9436\n",
            "Epoch 16/30\n",
            "1719/1719 [==============================] - 5s 3ms/step - loss: 0.3468 - accuracy: 0.9488 - val_loss: 0.3329 - val_accuracy: 0.9550\n",
            "Epoch 17/30\n",
            "1719/1719 [==============================] - 5s 3ms/step - loss: 0.3418 - accuracy: 0.9505 - val_loss: 0.3227 - val_accuracy: 0.9568\n",
            "Epoch 18/30\n",
            "1719/1719 [==============================] - 5s 3ms/step - loss: 0.3371 - accuracy: 0.9508 - val_loss: 0.3389 - val_accuracy: 0.9494\n",
            "Epoch 19/30\n",
            "1719/1719 [==============================] - 5s 3ms/step - loss: 0.3291 - accuracy: 0.9528 - val_loss: 0.3357 - val_accuracy: 0.9514\n",
            "Epoch 20/30\n",
            "1719/1719 [==============================] - 5s 3ms/step - loss: 0.3306 - accuracy: 0.9504 - val_loss: 0.3171 - val_accuracy: 0.9590\n",
            "Epoch 21/30\n",
            "1719/1719 [==============================] - 5s 3ms/step - loss: 0.3274 - accuracy: 0.9518 - val_loss: 0.3300 - val_accuracy: 0.9518\n",
            "Epoch 22/30\n",
            "1719/1719 [==============================] - 5s 3ms/step - loss: 0.3294 - accuracy: 0.9506 - val_loss: 0.3045 - val_accuracy: 0.9604\n",
            "Epoch 23/30\n",
            "1719/1719 [==============================] - 5s 3ms/step - loss: 0.3214 - accuracy: 0.9526 - val_loss: 0.3053 - val_accuracy: 0.9590\n",
            "Epoch 24/30\n",
            "1719/1719 [==============================] - 5s 3ms/step - loss: 0.3203 - accuracy: 0.9535 - val_loss: 0.3287 - val_accuracy: 0.9518\n",
            "Epoch 25/30\n",
            "1719/1719 [==============================] - 5s 3ms/step - loss: 0.3228 - accuracy: 0.9512 - val_loss: 0.3029 - val_accuracy: 0.9542\n",
            "Epoch 26/30\n",
            "1719/1719 [==============================] - 5s 3ms/step - loss: 0.3161 - accuracy: 0.9537 - val_loss: 0.2972 - val_accuracy: 0.9602\n",
            "Epoch 27/30\n",
            "1719/1719 [==============================] - 5s 3ms/step - loss: 0.3149 - accuracy: 0.9524 - val_loss: 0.3177 - val_accuracy: 0.9564\n",
            "Epoch 28/30\n",
            "1719/1719 [==============================] - 5s 3ms/step - loss: 0.3146 - accuracy: 0.9535 - val_loss: 0.2915 - val_accuracy: 0.9592\n",
            "Epoch 29/30\n",
            "1719/1719 [==============================] - 5s 3ms/step - loss: 0.3156 - accuracy: 0.9518 - val_loss: 0.3043 - val_accuracy: 0.9548\n",
            "Epoch 30/30\n",
            "1719/1719 [==============================] - 5s 3ms/step - loss: 0.3156 - accuracy: 0.9523 - val_loss: 0.3140 - val_accuracy: 0.9548\n"
          ],
          "name": "stdout"
        }
      ]
    },
    {
      "cell_type": "code",
      "metadata": {
        "id": "oHvSpZbILy1G",
        "colab": {
          "base_uri": "https://localhost:8080/",
          "height": 979
        },
        "outputId": "88d27d5a-0526-4f49-dbae-c96c713e26bd"
      },
      "source": [
        "metrics"
      ],
      "execution_count": null,
      "outputs": [
        {
          "output_type": "execute_result",
          "data": {
            "text/html": [
              "<div>\n",
              "<style scoped>\n",
              "    .dataframe tbody tr th:only-of-type {\n",
              "        vertical-align: middle;\n",
              "    }\n",
              "\n",
              "    .dataframe tbody tr th {\n",
              "        vertical-align: top;\n",
              "    }\n",
              "\n",
              "    .dataframe thead th {\n",
              "        text-align: right;\n",
              "    }\n",
              "</style>\n",
              "<table border=\"1\" class=\"dataframe\">\n",
              "  <thead>\n",
              "    <tr style=\"text-align: right;\">\n",
              "      <th></th>\n",
              "      <th>loss</th>\n",
              "      <th>accuracy</th>\n",
              "      <th>val_loss</th>\n",
              "      <th>val_accuracy</th>\n",
              "    </tr>\n",
              "  </thead>\n",
              "  <tbody>\n",
              "    <tr>\n",
              "      <th>0</th>\n",
              "      <td>1.142653</td>\n",
              "      <td>0.889345</td>\n",
              "      <td>0.604918</td>\n",
              "      <td>0.9264</td>\n",
              "    </tr>\n",
              "    <tr>\n",
              "      <th>1</th>\n",
              "      <td>0.589826</td>\n",
              "      <td>0.920073</td>\n",
              "      <td>0.519005</td>\n",
              "      <td>0.9380</td>\n",
              "    </tr>\n",
              "    <tr>\n",
              "      <th>2</th>\n",
              "      <td>0.510910</td>\n",
              "      <td>0.931855</td>\n",
              "      <td>0.465931</td>\n",
              "      <td>0.9434</td>\n",
              "    </tr>\n",
              "    <tr>\n",
              "      <th>3</th>\n",
              "      <td>0.468039</td>\n",
              "      <td>0.935891</td>\n",
              "      <td>0.422863</td>\n",
              "      <td>0.9516</td>\n",
              "    </tr>\n",
              "    <tr>\n",
              "      <th>4</th>\n",
              "      <td>0.433071</td>\n",
              "      <td>0.940782</td>\n",
              "      <td>0.419608</td>\n",
              "      <td>0.9474</td>\n",
              "    </tr>\n",
              "    <tr>\n",
              "      <th>5</th>\n",
              "      <td>0.414044</td>\n",
              "      <td>0.941709</td>\n",
              "      <td>0.377075</td>\n",
              "      <td>0.9542</td>\n",
              "    </tr>\n",
              "    <tr>\n",
              "      <th>6</th>\n",
              "      <td>0.401289</td>\n",
              "      <td>0.943345</td>\n",
              "      <td>0.374415</td>\n",
              "      <td>0.9536</td>\n",
              "    </tr>\n",
              "    <tr>\n",
              "      <th>7</th>\n",
              "      <td>0.387718</td>\n",
              "      <td>0.945945</td>\n",
              "      <td>0.352669</td>\n",
              "      <td>0.9546</td>\n",
              "    </tr>\n",
              "    <tr>\n",
              "      <th>8</th>\n",
              "      <td>0.380664</td>\n",
              "      <td>0.945527</td>\n",
              "      <td>0.350017</td>\n",
              "      <td>0.9570</td>\n",
              "    </tr>\n",
              "    <tr>\n",
              "      <th>9</th>\n",
              "      <td>0.374594</td>\n",
              "      <td>0.946000</td>\n",
              "      <td>0.353914</td>\n",
              "      <td>0.9518</td>\n",
              "    </tr>\n",
              "    <tr>\n",
              "      <th>10</th>\n",
              "      <td>0.369244</td>\n",
              "      <td>0.946255</td>\n",
              "      <td>0.354233</td>\n",
              "      <td>0.9522</td>\n",
              "    </tr>\n",
              "    <tr>\n",
              "      <th>11</th>\n",
              "      <td>0.362947</td>\n",
              "      <td>0.947618</td>\n",
              "      <td>0.336697</td>\n",
              "      <td>0.9576</td>\n",
              "    </tr>\n",
              "    <tr>\n",
              "      <th>12</th>\n",
              "      <td>0.358468</td>\n",
              "      <td>0.947873</td>\n",
              "      <td>0.348014</td>\n",
              "      <td>0.9482</td>\n",
              "    </tr>\n",
              "    <tr>\n",
              "      <th>13</th>\n",
              "      <td>0.354163</td>\n",
              "      <td>0.947273</td>\n",
              "      <td>0.347615</td>\n",
              "      <td>0.9484</td>\n",
              "    </tr>\n",
              "    <tr>\n",
              "      <th>14</th>\n",
              "      <td>0.347721</td>\n",
              "      <td>0.948945</td>\n",
              "      <td>0.351323</td>\n",
              "      <td>0.9436</td>\n",
              "    </tr>\n",
              "    <tr>\n",
              "      <th>15</th>\n",
              "      <td>0.346614</td>\n",
              "      <td>0.948727</td>\n",
              "      <td>0.332883</td>\n",
              "      <td>0.9550</td>\n",
              "    </tr>\n",
              "    <tr>\n",
              "      <th>16</th>\n",
              "      <td>0.343602</td>\n",
              "      <td>0.949545</td>\n",
              "      <td>0.322731</td>\n",
              "      <td>0.9568</td>\n",
              "    </tr>\n",
              "    <tr>\n",
              "      <th>17</th>\n",
              "      <td>0.340041</td>\n",
              "      <td>0.950000</td>\n",
              "      <td>0.338943</td>\n",
              "      <td>0.9494</td>\n",
              "    </tr>\n",
              "    <tr>\n",
              "      <th>18</th>\n",
              "      <td>0.335980</td>\n",
              "      <td>0.950127</td>\n",
              "      <td>0.335715</td>\n",
              "      <td>0.9514</td>\n",
              "    </tr>\n",
              "    <tr>\n",
              "      <th>19</th>\n",
              "      <td>0.331280</td>\n",
              "      <td>0.950509</td>\n",
              "      <td>0.317121</td>\n",
              "      <td>0.9590</td>\n",
              "    </tr>\n",
              "    <tr>\n",
              "      <th>20</th>\n",
              "      <td>0.330535</td>\n",
              "      <td>0.950327</td>\n",
              "      <td>0.330018</td>\n",
              "      <td>0.9518</td>\n",
              "    </tr>\n",
              "    <tr>\n",
              "      <th>21</th>\n",
              "      <td>0.329749</td>\n",
              "      <td>0.950000</td>\n",
              "      <td>0.304467</td>\n",
              "      <td>0.9604</td>\n",
              "    </tr>\n",
              "    <tr>\n",
              "      <th>22</th>\n",
              "      <td>0.326611</td>\n",
              "      <td>0.950800</td>\n",
              "      <td>0.305328</td>\n",
              "      <td>0.9590</td>\n",
              "    </tr>\n",
              "    <tr>\n",
              "      <th>23</th>\n",
              "      <td>0.324736</td>\n",
              "      <td>0.951036</td>\n",
              "      <td>0.328720</td>\n",
              "      <td>0.9518</td>\n",
              "    </tr>\n",
              "    <tr>\n",
              "      <th>24</th>\n",
              "      <td>0.325696</td>\n",
              "      <td>0.951127</td>\n",
              "      <td>0.302877</td>\n",
              "      <td>0.9542</td>\n",
              "    </tr>\n",
              "    <tr>\n",
              "      <th>25</th>\n",
              "      <td>0.324097</td>\n",
              "      <td>0.950691</td>\n",
              "      <td>0.297249</td>\n",
              "      <td>0.9602</td>\n",
              "    </tr>\n",
              "    <tr>\n",
              "      <th>26</th>\n",
              "      <td>0.321794</td>\n",
              "      <td>0.950273</td>\n",
              "      <td>0.317657</td>\n",
              "      <td>0.9564</td>\n",
              "    </tr>\n",
              "    <tr>\n",
              "      <th>27</th>\n",
              "      <td>0.320011</td>\n",
              "      <td>0.951909</td>\n",
              "      <td>0.291491</td>\n",
              "      <td>0.9592</td>\n",
              "    </tr>\n",
              "    <tr>\n",
              "      <th>28</th>\n",
              "      <td>0.320022</td>\n",
              "      <td>0.950745</td>\n",
              "      <td>0.304291</td>\n",
              "      <td>0.9548</td>\n",
              "    </tr>\n",
              "    <tr>\n",
              "      <th>29</th>\n",
              "      <td>0.318249</td>\n",
              "      <td>0.951745</td>\n",
              "      <td>0.314011</td>\n",
              "      <td>0.9548</td>\n",
              "    </tr>\n",
              "  </tbody>\n",
              "</table>\n",
              "</div>"
            ],
            "text/plain": [
              "        loss  accuracy  val_loss  val_accuracy\n",
              "0   1.142653  0.889345  0.604918        0.9264\n",
              "1   0.589826  0.920073  0.519005        0.9380\n",
              "2   0.510910  0.931855  0.465931        0.9434\n",
              "3   0.468039  0.935891  0.422863        0.9516\n",
              "4   0.433071  0.940782  0.419608        0.9474\n",
              "5   0.414044  0.941709  0.377075        0.9542\n",
              "6   0.401289  0.943345  0.374415        0.9536\n",
              "7   0.387718  0.945945  0.352669        0.9546\n",
              "8   0.380664  0.945527  0.350017        0.9570\n",
              "9   0.374594  0.946000  0.353914        0.9518\n",
              "10  0.369244  0.946255  0.354233        0.9522\n",
              "11  0.362947  0.947618  0.336697        0.9576\n",
              "12  0.358468  0.947873  0.348014        0.9482\n",
              "13  0.354163  0.947273  0.347615        0.9484\n",
              "14  0.347721  0.948945  0.351323        0.9436\n",
              "15  0.346614  0.948727  0.332883        0.9550\n",
              "16  0.343602  0.949545  0.322731        0.9568\n",
              "17  0.340041  0.950000  0.338943        0.9494\n",
              "18  0.335980  0.950127  0.335715        0.9514\n",
              "19  0.331280  0.950509  0.317121        0.9590\n",
              "20  0.330535  0.950327  0.330018        0.9518\n",
              "21  0.329749  0.950000  0.304467        0.9604\n",
              "22  0.326611  0.950800  0.305328        0.9590\n",
              "23  0.324736  0.951036  0.328720        0.9518\n",
              "24  0.325696  0.951127  0.302877        0.9542\n",
              "25  0.324097  0.950691  0.297249        0.9602\n",
              "26  0.321794  0.950273  0.317657        0.9564\n",
              "27  0.320011  0.951909  0.291491        0.9592\n",
              "28  0.320022  0.950745  0.304291        0.9548\n",
              "29  0.318249  0.951745  0.314011        0.9548"
            ]
          },
          "metadata": {
            "tags": []
          },
          "execution_count": 85
        }
      ]
    },
    {
      "cell_type": "code",
      "metadata": {
        "id": "gulvEP4Nryzi",
        "colab": {
          "base_uri": "https://localhost:8080/",
          "height": 336
        },
        "outputId": "9b4a105f-8ffc-4e00-b013-e72742222388"
      },
      "source": [
        "plot_metrics(metrics,adam_model)"
      ],
      "execution_count": null,
      "outputs": [
        {
          "output_type": "display_data",
          "data": {
            "image/png": "[encoded data removed]",
            "text/plain": [
              "<Figure size 576x360 with 1 Axes>"
            ]
          },
          "metadata": {
            "tags": [],
            "needs_background": "light"
          }
        }
      ]
    },
    {
      "cell_type": "code",
      "metadata": {
        "id": "o8YS7YREFLa9"
      },
      "source": [
        "import time"
      ],
      "execution_count": null,
      "outputs": []
    },
    {
      "cell_type": "code",
      "metadata": {
        "id": "hpvlTenVsuSN"
      },
      "source": [
        "def savedModelPath(model_dir='TRAINED_MODEL'):\n",
        "  os.makedirs(model_dir,exist_ok=True)\n",
        "  name=time.strftime('Model_%Y_%m_%d_%H_%M_%S_.h5')\n",
        "  print(name)\n",
        "  model_path=os.path.join(model_dir,name)\n",
        "  print(f\"you model will be save in {model_path}\")\n",
        "  return str(model_path)\n",
        "\n"
      ],
      "execution_count": null,
      "outputs": []
    },
    {
      "cell_type": "code",
      "metadata": {
        "id": "HA0evcE5Gjt0",
        "colab": {
          "base_uri": "https://localhost:8080/",
          "height": 69
        },
        "outputId": "a7bd32da-fe21-4626-d328-0cc013c61cba"
      },
      "source": [
        "savedModelPath()"
      ],
      "execution_count": null,
      "outputs": [
        {
          "output_type": "stream",
          "text": [
            "Model_2021_05_22_08_46_12_.h5\n",
            "you model will be save in TRAINED_MODEL/Model_2021_05_22_08_46_12_.h5\n"
          ],
          "name": "stdout"
        },
        {
          "output_type": "execute_result",
          "data": {
            "application/vnd.google.colaboratory.intrinsic+json": {
              "type": "string"
            },
            "text/plain": [
              "'TRAINED_MODEL/Model_2021_05_22_08_46_12_.h5'"
            ]
          },
          "metadata": {
            "tags": []
          },
          "execution_count": 89
        }
      ]
    },
    {
      "cell_type": "code",
      "metadata": {
        "id": "x65E52uhF6dA"
      },
      "source": [
        "#adam_model.save(savedModelPath())"
      ],
      "execution_count": null,
      "outputs": []
    },
    {
      "cell_type": "code",
      "metadata": {
        "id": "5mX1DrK2GELy",
        "colab": {
          "base_uri": "https://localhost:8080/"
        },
        "outputId": "26f8ba61-ea69-48ac-d8b9-8b2f2542f806"
      },
      "source": [
        "tf.keras.models.save_model(adam_model,savedModelPath())"
      ],
      "execution_count": null,
      "outputs": [
        {
          "output_type": "stream",
          "text": [
            "Model_2021_05_22_08_46_12_.h5\n",
            "you model will be save in TRAINED_MODEL/Model_2021_05_22_08_46_12_.h5\n"
          ],
          "name": "stdout"
        }
      ]
    },
    {
      "cell_type": "code",
      "metadata": {
        "id": "3osihqpaHQPk",
        "colab": {
          "base_uri": "https://localhost:8080/"
        },
        "outputId": "30846c69-efb1-4392-b37a-bbdd7a8b49da"
      },
      "source": [
        "adam_model.evaluate(x_test,y_test)"
      ],
      "execution_count": null,
      "outputs": [
        {
          "output_type": "stream",
          "text": [
            "313/313 [==============================] - 1s 2ms/step - loss: 0.3109 - accuracy: 0.9535\n"
          ],
          "name": "stdout"
        },
        {
          "output_type": "execute_result",
          "data": {
            "text/plain": [
              "[0.31093722581863403, 0.953499972820282]"
            ]
          },
          "metadata": {
            "tags": []
          },
          "execution_count": 92
        }
      ]
    },
    {
      "cell_type": "code",
      "metadata": {
        "id": "kqsimiqKHYee"
      },
      "source": [
        "new_x=x_test[:3]\n",
        "new_y=y_test[:3]\n",
        "new_y_pred=np.argmax(adam_model.predict(new_x),axis=-1)"
      ],
      "execution_count": null,
      "outputs": []
    },
    {
      "cell_type": "code",
      "metadata": {
        "id": "PROYI9M8HciZ"
      },
      "source": [
        "new_y"
      ],
      "execution_count": null,
      "outputs": []
    },
    {
      "cell_type": "code",
      "metadata": {
        "id": "ufAGl_2SHubC",
        "colab": {
          "base_uri": "https://localhost:8080/"
        },
        "outputId": "006e32c7-54bf-4779-9cf1-591b59443f19"
      },
      "source": [
        "new_y_pred"
      ],
      "execution_count": null,
      "outputs": [
        {
          "output_type": "execute_result",
          "data": {
            "text/plain": [
              "array([7, 2, 1])"
            ]
          },
          "metadata": {
            "tags": []
          },
          "execution_count": 95
        }
      ]
    },
    {
      "cell_type": "code",
      "metadata": {
        "id": "jXXgKilhHvg6",
        "colab": {
          "base_uri": "https://localhost:8080/"
        },
        "outputId": "98b369a8-b302-4d6a-cf34-f89e2c5e92c4"
      },
      "source": [
        "adam_model.predict(new_x)"
      ],
      "execution_count": null,
      "outputs": [
        {
          "output_type": "execute_result",
          "data": {
            "text/plain": [
              "array([[1.0413989e-05, 1.4429196e-04, 5.1250774e-04, 1.6598671e-04,\n",
              "        8.6650704e-07, 4.6706944e-05, 1.6798927e-08, 9.9904865e-01,\n",
              "        4.1047015e-06, 6.6542474e-05],\n",
              "       [8.7827444e-04, 2.5287187e-03, 9.1403389e-01, 6.9041036e-02,\n",
              "        3.8596835e-07, 4.0427313e-04, 1.5242885e-04, 5.5977289e-04,\n",
              "        1.2398514e-02, 2.6610796e-06],\n",
              "       [5.6332281e-09, 9.9847144e-01, 2.6127000e-04, 2.7561489e-05,\n",
              "        6.4287375e-04, 1.4835573e-05, 4.1863801e-05, 2.1318585e-04,\n",
              "        3.2629736e-04, 7.1415252e-07]], dtype=float32)"
            ]
          },
          "metadata": {
            "tags": []
          },
          "execution_count": 96
        }
      ]
    },
    {
      "cell_type": "code",
      "metadata": {
        "id": "i5axUyWqHz1S",
        "colab": {
          "base_uri": "https://localhost:8080/",
          "height": 812
        },
        "outputId": "6eff52b2-c21b-495c-c519-064f40cf5a8a"
      },
      "source": [
        "for a,b,c in zip(new_x,new_y,new_y_pred):\n",
        "  print(f\"Actual {b}, Predicted {c}\")\n",
        "  plt.imshow(a,cmap='binary')\n",
        "  plt.axis(False)\n",
        "  plt.show()\n",
        "  print('###############')"
      ],
      "execution_count": null,
      "outputs": [
        {
          "output_type": "stream",
          "text": [
            "Actual 7, Predicted 7\n"
          ],
          "name": "stdout"
        },
        {
          "output_type": "display_data",
          "data": {
            "image/png": "[encoded data removed]",
            "text/plain": [
              "<Figure size 432x288 with 1 Axes>"
            ]
          },
          "metadata": {
            "tags": [],
            "needs_background": "light"
          }
        },
        {
          "output_type": "stream",
          "text": [
            "###############\n",
            "Actual 2, Predicted 2\n"
          ],
          "name": "stdout"
        },
        {
          "output_type": "display_data",
          "data": {
            "image/png": "[encoded data removed]",
            "text/plain": [
              "<Figure size 432x288 with 1 Axes>"
            ]
          },
          "metadata": {
            "tags": [],
            "needs_background": "light"
          }
        },
        {
          "output_type": "stream",
          "text": [
            "###############\n",
            "Actual 1, Predicted 1\n"
          ],
          "name": "stdout"
        },
        {
          "output_type": "display_data",
          "data": {
            "image/png": "[encoded data removed]",
            "text/plain": [
              "<Figure size 432x288 with 1 Axes>"
            ]
          },
          "metadata": {
            "tags": [],
            "needs_background": "light"
          }
        },
        {
          "output_type": "stream",
          "text": [
            "###############\n"
          ],
          "name": "stdout"
        }
      ]
    },
    {
      "cell_type": "code",
      "metadata": {
        "id": "t_4AkVzWNgxl"
      },
      "source": [
        ""
      ],
      "execution_count": null,
      "outputs": []
    }
  ]
}